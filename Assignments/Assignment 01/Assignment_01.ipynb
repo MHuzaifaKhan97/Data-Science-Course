{
 "cells": [
  {
   "cell_type": "markdown",
   "id": "7760e70c",
   "metadata": {},
   "source": [
    "# Data Science Course : Assignment No 01"
   ]
  },
  {
   "cell_type": "markdown",
   "id": "61c6dbc6",
   "metadata": {},
   "source": [
    "## Question # 01"
   ]
  },
  {
   "cell_type": "code",
   "execution_count": 36,
   "id": "ebe10ba5",
   "metadata": {},
   "outputs": [
    {
     "name": "stdout",
     "output_type": "stream",
     "text": [
      "Twinkle, twinkle, little star,\n",
      "\tHow I wonder what you are!\n",
      "\t\tUp above the world so high,\n",
      "\t\tLike a diamond in the sky.\n",
      "Twinkle, twinkle, little star,\n",
      "\tHow I wonder what you are!\n"
     ]
    }
   ],
   "source": [
    "print('Twinkle, twinkle, little star,')\n",
    "print('\\tHow I wonder what you are!')\n",
    "print('\\t\\tUp above the world so high,')\n",
    "print('\\t\\tLike a diamond in the sky.')\n",
    "print('Twinkle, twinkle, little star,')\n",
    "print('\\tHow I wonder what you are!')"
   ]
  },
  {
   "cell_type": "markdown",
   "id": "9f408677",
   "metadata": {},
   "source": [
    "## Question # 02"
   ]
  },
  {
   "cell_type": "code",
   "execution_count": 4,
   "id": "147a5dc3",
   "metadata": {},
   "outputs": [
    {
     "name": "stdout",
     "output_type": "stream",
     "text": [
      "3.8.8 (default, Apr 13 2021, 15:08:03) [MSC v.1916 64 bit (AMD64)]\n"
     ]
    }
   ],
   "source": [
    "import sys\n",
    "print(sys.version)"
   ]
  },
  {
   "cell_type": "markdown",
   "id": "6beda76f",
   "metadata": {},
   "source": [
    "## Question # 03"
   ]
  },
  {
   "cell_type": "code",
   "execution_count": 9,
   "id": "dd2344c4",
   "metadata": {},
   "outputs": [
    {
     "name": "stdout",
     "output_type": "stream",
     "text": [
      "Today's Date: 2021-10-23 18:46:53.626123\n"
     ]
    }
   ],
   "source": [
    "from datetime import datetime\n",
    "\n",
    "today = datetime.now()\n",
    "print(\"Today's Date:\", today)"
   ]
  },
  {
   "cell_type": "markdown",
   "id": "341bf894",
   "metadata": {},
   "source": [
    "## Question # 04"
   ]
  },
  {
   "cell_type": "code",
   "execution_count": 13,
   "id": "aa1d0f3a",
   "metadata": {},
   "outputs": [
    {
     "name": "stdout",
     "output_type": "stream",
     "text": [
      "Please enter radius: 4\n",
      "50.272\n"
     ]
    }
   ],
   "source": [
    "radius = input('Please enter radius: ')\n",
    "radius = float(radius)\n",
    "area = 3.142 * (radius * radius)\n",
    "print(area)"
   ]
  },
  {
   "cell_type": "markdown",
   "id": "d7518e53",
   "metadata": {},
   "source": [
    "## Question # 05"
   ]
  },
  {
   "cell_type": "code",
   "execution_count": 38,
   "id": "37b0b378",
   "metadata": {},
   "outputs": [
    {
     "name": "stdout",
     "output_type": "stream",
     "text": [
      "Input your First Name : Huzaifa\n",
      "Input your Last Name : Khan\n",
      "Hello Khan Huzaifa\n"
     ]
    }
   ],
   "source": [
    "fName = input(\"Input your First Name : \")\n",
    "lName = input(\"Input your Last Name : \")\n",
    "print (\"Hello \" + lName + \" \" + fName)"
   ]
  },
  {
   "cell_type": "markdown",
   "id": "f0f6802b",
   "metadata": {},
   "source": [
    "## Question # 06"
   ]
  },
  {
   "cell_type": "code",
   "execution_count": 15,
   "id": "0d1da934",
   "metadata": {},
   "outputs": [
    {
     "name": "stdout",
     "output_type": "stream",
     "text": [
      "Enter Number 1: 55\n",
      "Enter Number 2: 44.4\n",
      "Addition of two number is  99.4\n"
     ]
    }
   ],
   "source": [
    "a = float(input('Enter Number 1: '))\n",
    "b = float(input('Enter Number 2: '))\n",
    "result = a+b;\n",
    "print('Addition of two number is ',result)"
   ]
  },
  {
   "cell_type": "code",
   "execution_count": null,
   "id": "a8c1bcda",
   "metadata": {},
   "outputs": [],
   "source": []
  }
 ],
 "metadata": {
  "kernelspec": {
   "display_name": "Python 3",
   "language": "python",
   "name": "python3"
  },
  "language_info": {
   "codemirror_mode": {
    "name": "ipython",
    "version": 3
   },
   "file_extension": ".py",
   "mimetype": "text/x-python",
   "name": "python",
   "nbconvert_exporter": "python",
   "pygments_lexer": "ipython3",
   "version": "3.8.8"
  }
 },
 "nbformat": 4,
 "nbformat_minor": 5
}
